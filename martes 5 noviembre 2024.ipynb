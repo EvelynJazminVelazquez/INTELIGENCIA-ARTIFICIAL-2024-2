{
  "nbformat": 4,
  "nbformat_minor": 0,
  "metadata": {
    "colab": {
      "provenance": [],
      "authorship_tag": "ABX9TyPaM5hipPwGQ4SQrFLuozIY",
      "include_colab_link": true
    },
    "kernelspec": {
      "name": "python3",
      "display_name": "Python 3"
    },
    "language_info": {
      "name": "python"
    }
  },
  "cells": [
    {
      "cell_type": "markdown",
      "metadata": {
        "id": "view-in-github",
        "colab_type": "text"
      },
      "source": [
        "<a href=\"https://colab.research.google.com/github/EvelynJazminVelazquez/INTELIGENCIA-ARTIFICIAL-2024-2/blob/master/martes%205%20noviembre%202024.ipynb\" target=\"_parent\"><img src=\"https://colab.research.google.com/assets/colab-badge.svg\" alt=\"Open In Colab\"/></a>"
      ]
    },
    {
      "cell_type": "code",
      "execution_count": 1,
      "metadata": {
        "colab": {
          "base_uri": "https://localhost:8080/"
        },
        "id": "aly1mPJ4mmk4",
        "outputId": "06fa8e12-786c-4c0f-bdd9-2c2598ee321d"
      },
      "outputs": [
        {
          "output_type": "stream",
          "name": "stdout",
          "text": [
            "(3, 4)\n"
          ]
        }
      ],
      "source": [
        "import numpy as np\n",
        "matrixA=np.array([[11,12,13,14],[21,22,23,24],[31,32,33,34]])\n",
        "print(matrixA.shape)"
      ]
    },
    {
      "cell_type": "code",
      "source": [
        "matrixA"
      ],
      "metadata": {
        "colab": {
          "base_uri": "https://localhost:8080/"
        },
        "id": "k692LDZanW7L",
        "outputId": "b726bd5c-d413-4557-8cfa-6df13ffa7689"
      },
      "execution_count": 2,
      "outputs": [
        {
          "output_type": "execute_result",
          "data": {
            "text/plain": [
              "array([[11, 12, 13, 14],\n",
              "       [21, 22, 23, 24],\n",
              "       [31, 32, 33, 34]])"
            ]
          },
          "metadata": {},
          "execution_count": 2
        }
      ]
    },
    {
      "cell_type": "code",
      "source": [
        "print(matrixA[1:,1:3])"
      ],
      "metadata": {
        "colab": {
          "base_uri": "https://localhost:8080/"
        },
        "id": "LMANVwRCndUb",
        "outputId": "72ab675e-f586-48da-fdbc-5b93ef04e822"
      },
      "execution_count": 3,
      "outputs": [
        {
          "output_type": "stream",
          "name": "stdout",
          "text": [
            "[[22 23]\n",
            " [32 33]]\n"
          ]
        }
      ]
    },
    {
      "cell_type": "code",
      "source": [
        "matrixB=np.random.randint(0,10, size=(4,3))\n",
        "print(matrixB)\n",
        "print(matrixB.shape)"
      ],
      "metadata": {
        "colab": {
          "base_uri": "https://localhost:8080/"
        },
        "id": "J-M4elVBn_78",
        "outputId": "058cadc2-25da-40eb-811b-c2204c2ed837"
      },
      "execution_count": 4,
      "outputs": [
        {
          "output_type": "stream",
          "name": "stdout",
          "text": [
            "[[8 0 7]\n",
            " [8 7 4]\n",
            " [1 1 1]\n",
            " [0 2 4]]\n",
            "(4, 3)\n"
          ]
        }
      ]
    },
    {
      "cell_type": "code",
      "source": [
        "print(matrixB)\n",
        "col_indices=np.array([0,1,2])\n",
        "row_indices=np.arange(1,2)\n",
        "\n",
        "for row,col in zip(row_indices,col_indices):\n",
        "    #print(row,\"-\",col)\n",
        "    print(matrixB[row,col])\n",
        ""
      ],
      "metadata": {
        "colab": {
          "base_uri": "https://localhost:8080/"
        },
        "id": "ragrQ55toWot",
        "outputId": "aca4e36c-51a6-45d6-ead1-449b72657623"
      },
      "execution_count": 7,
      "outputs": [
        {
          "output_type": "stream",
          "name": "stdout",
          "text": [
            "[[8 0 7]\n",
            " [8 7 4]\n",
            " [1 1 1]\n",
            " [0 2 4]]\n",
            "8\n"
          ]
        }
      ]
    },
    {
      "cell_type": "code",
      "source": [
        "mask=matrixB>7\n",
        "print(mask)"
      ],
      "metadata": {
        "colab": {
          "base_uri": "https://localhost:8080/"
        },
        "id": "nP1YSHOEp9Rx",
        "outputId": "05db105a-6ae0-4331-d427-427c8621e906"
      },
      "execution_count": 8,
      "outputs": [
        {
          "output_type": "stream",
          "name": "stdout",
          "text": [
            "[[ True False False]\n",
            " [ True False False]\n",
            " [False False False]\n",
            " [False False False]]\n"
          ]
        }
      ]
    },
    {
      "cell_type": "code",
      "source": [
        "print(matrixB[mask])"
      ],
      "metadata": {
        "colab": {
          "base_uri": "https://localhost:8080/"
        },
        "id": "nzPRyZiCqFsy",
        "outputId": "d02d29a9-f746-4e6a-c64a-702e90ec6936"
      },
      "execution_count": 9,
      "outputs": [
        {
          "output_type": "stream",
          "name": "stdout",
          "text": [
            "[8 8]\n"
          ]
        }
      ]
    },
    {
      "cell_type": "code",
      "source": [
        "print(matrixB[matrixB>7])"
      ],
      "metadata": {
        "colab": {
          "base_uri": "https://localhost:8080/"
        },
        "id": "WK25fyd6qQja",
        "outputId": "17b49409-e2b3-446e-9b79-f12b8b68aedd"
      },
      "execution_count": 10,
      "outputs": [
        {
          "output_type": "stream",
          "name": "stdout",
          "text": [
            "[8 8]\n"
          ]
        }
      ]
    },
    {
      "cell_type": "code",
      "source": [
        "matrixB[matrixB%2==0]+=100\n",
        "print(matrixB)"
      ],
      "metadata": {
        "colab": {
          "base_uri": "https://localhost:8080/"
        },
        "id": "VGQblyUHqXPn",
        "outputId": "72c640bc-ea6d-4ee1-d702-4bf3ec21ebfa"
      },
      "execution_count": 15,
      "outputs": [
        {
          "output_type": "stream",
          "name": "stdout",
          "text": [
            "[[108 100   7]\n",
            " [108   7 104]\n",
            " [  1   1   1]\n",
            " [100 102 104]]\n"
          ]
        }
      ]
    },
    {
      "cell_type": "code",
      "source": [
        "print(matrixB)"
      ],
      "metadata": {
        "colab": {
          "base_uri": "https://localhost:8080/"
        },
        "id": "IrsDd5w5ruNy",
        "outputId": "e94f0c5b-877e-4c35-c976-776208937186"
      },
      "execution_count": 17,
      "outputs": [
        {
          "output_type": "stream",
          "name": "stdout",
          "text": [
            "[[108 100   7]\n",
            " [108   7 104]\n",
            " [  1   1   1]\n",
            " [100 102 104]]\n"
          ]
        }
      ]
    },
    {
      "cell_type": "code",
      "source": [
        "matrixC = np.random.rand(2,2)"
      ],
      "metadata": {
        "id": "snHZs6SosCyL"
      },
      "execution_count": 18,
      "outputs": []
    },
    {
      "cell_type": "code",
      "source": [
        "filter=(matrixB>3) & (matrixB<9)\n",
        "matrixB[filter]+=100\n",
        "print(matrixB)\n"
      ],
      "metadata": {
        "colab": {
          "base_uri": "https://localhost:8080/"
        },
        "id": "3k7qHm-itHR3",
        "outputId": "4682ce23-abbc-4766-d040-c98c5ef2e109"
      },
      "execution_count": 19,
      "outputs": [
        {
          "output_type": "stream",
          "name": "stdout",
          "text": [
            "[[108 100 107]\n",
            " [108 107 104]\n",
            " [  1   1   1]\n",
            " [100 102 104]]\n"
          ]
        }
      ]
    },
    {
      "cell_type": "code",
      "source": [
        "matrixA1 = np.random.randint(0,10, size=(2,2))\n",
        "matrixA2 = np.random.randint(0,10, size=(2,2))\n",
        "print(\"matrixA1\")\n",
        "print(matrixA1)\n",
        "print(\"matrixA2\")\n",
        "print(matrixA2)\n"
      ],
      "metadata": {
        "colab": {
          "base_uri": "https://localhost:8080/"
        },
        "id": "jgxaqLnturWx",
        "outputId": "f61db991-d58e-4dcd-ccf7-a7148d81fc08"
      },
      "execution_count": 21,
      "outputs": [
        {
          "output_type": "stream",
          "name": "stdout",
          "text": [
            "matrixA1\n",
            "[[4 9]\n",
            " [9 4]]\n",
            "matrixA2\n",
            "[[6 0]\n",
            " [8 4]]\n"
          ]
        }
      ]
    },
    {
      "cell_type": "code",
      "source": [
        "print(matrixA1+matrixA2)\n",
        "print(matrixA1-matrixA2)\n",
        "print(matrixA1*matrixA2)\n",
        "print(matrixA1/matrixA2)"
      ],
      "metadata": {
        "colab": {
          "base_uri": "https://localhost:8080/"
        },
        "id": "_DscVsj8vgPt",
        "outputId": "ca236a04-7fd0-437d-c8a5-6057e15e6adc"
      },
      "execution_count": 22,
      "outputs": [
        {
          "output_type": "stream",
          "name": "stdout",
          "text": [
            "[[10  9]\n",
            " [17  8]]\n",
            "[[-2  9]\n",
            " [ 1  0]]\n",
            "[[24  0]\n",
            " [72 16]]\n",
            "[[0.66666667        inf]\n",
            " [1.125      1.        ]]\n"
          ]
        },
        {
          "output_type": "stream",
          "name": "stderr",
          "text": [
            "<ipython-input-22-d9a4810fe26b>:4: RuntimeWarning: divide by zero encountered in divide\n",
            "  print(matrixA1/matrixA2)\n"
          ]
        }
      ]
    },
    {
      "cell_type": "code",
      "source": [
        "print(np.sqrt(matrixA1))"
      ],
      "metadata": {
        "colab": {
          "base_uri": "https://localhost:8080/"
        },
        "id": "zTN0GzYYv11r",
        "outputId": "4315b33d-2ea0-4e32-cf17-0f2d4de2751f"
      },
      "execution_count": 24,
      "outputs": [
        {
          "output_type": "stream",
          "name": "stdout",
          "text": [
            "[[2. 3.]\n",
            " [3. 2.]]\n"
          ]
        }
      ]
    },
    {
      "cell_type": "code",
      "source": [
        "matrixA1 = np.random.randint(0,10, size=(2,5))\n",
        "print(matrixA1)"
      ],
      "metadata": {
        "colab": {
          "base_uri": "https://localhost:8080/"
        },
        "id": "vRcs9io8v2wO",
        "outputId": "3b6dc038-df79-46e4-ed71-cd284f93a824"
      },
      "execution_count": 26,
      "outputs": [
        {
          "output_type": "stream",
          "name": "stdout",
          "text": [
            "[[5 3 9 5 8]\n",
            " [8 9 7 5 7]]\n"
          ]
        }
      ]
    },
    {
      "cell_type": "code",
      "source": [
        "print(np.mean(matrixA1))"
      ],
      "metadata": {
        "colab": {
          "base_uri": "https://localhost:8080/"
        },
        "id": "5V5RULj8wMbJ",
        "outputId": "45b4db39-7c1f-449b-e6e5-189472cfebea"
      },
      "execution_count": 27,
      "outputs": [
        {
          "output_type": "stream",
          "name": "stdout",
          "text": [
            "6.6\n"
          ]
        }
      ]
    },
    {
      "cell_type": "code",
      "source": [
        "print(matrixA1.mean(axis=1))"
      ],
      "metadata": {
        "colab": {
          "base_uri": "https://localhost:8080/"
        },
        "id": "AMTNu01BwRdv",
        "outputId": "934d9005-5985-4362-f9ac-663045e29fd5"
      },
      "execution_count": 28,
      "outputs": [
        {
          "output_type": "stream",
          "name": "stdout",
          "text": [
            "[6.  7.2]\n"
          ]
        }
      ]
    },
    {
      "cell_type": "code",
      "source": [
        "print(matrixA1.mean(axis=0))"
      ],
      "metadata": {
        "colab": {
          "base_uri": "https://localhost:8080/"
        },
        "id": "fO8soPNuwiH2",
        "outputId": "adf95437-142c-4f19-9c45-1d5558a512dd"
      },
      "execution_count": 29,
      "outputs": [
        {
          "output_type": "stream",
          "name": "stdout",
          "text": [
            "[6.5 6.  8.  5.  7.5]\n"
          ]
        }
      ]
    },
    {
      "cell_type": "code",
      "source": [
        "print(np.std(matrixA1))"
      ],
      "metadata": {
        "colab": {
          "base_uri": "https://localhost:8080/"
        },
        "id": "WhVXbJyBwx-w",
        "outputId": "9ac93859-79a2-470c-9bfd-04906a99f40f"
      },
      "execution_count": 30,
      "outputs": [
        {
          "output_type": "stream",
          "name": "stdout",
          "text": [
            "1.9078784028338913\n"
          ]
        }
      ]
    },
    {
      "cell_type": "code",
      "source": [
        "print(np.median(matrixA1))"
      ],
      "metadata": {
        "colab": {
          "base_uri": "https://localhost:8080/"
        },
        "id": "HEF-hwYlw35S",
        "outputId": "4f949a7a-0116-4a2f-c48b-4460f75bcf5c"
      },
      "execution_count": 31,
      "outputs": [
        {
          "output_type": "stream",
          "name": "stdout",
          "text": [
            "7.0\n"
          ]
        }
      ]
    },
    {
      "cell_type": "code",
      "source": [
        "import builtins\n",
        "print = builtins.print\n",
        "\n",
        "print(matrixA1.sum())"
      ],
      "metadata": {
        "colab": {
          "base_uri": "https://localhost:8080/"
        },
        "id": "g5uj88GGw9Ul",
        "outputId": "2a774af0-72aa-4fb1-d296-6a6c6f86d365"
      },
      "execution_count": 36,
      "outputs": [
        {
          "output_type": "stream",
          "name": "stdout",
          "text": [
            "66\n"
          ]
        }
      ]
    },
    {
      "cell_type": "code",
      "source": [
        "print(matrixA1.max())"
      ],
      "metadata": {
        "colab": {
          "base_uri": "https://localhost:8080/"
        },
        "id": "EKrHzwMnxpYB",
        "outputId": "db5356a9-7b0f-461e-9476-4cf7934db2e1"
      },
      "execution_count": 37,
      "outputs": [
        {
          "output_type": "stream",
          "name": "stdout",
          "text": [
            "9\n"
          ]
        }
      ]
    },
    {
      "cell_type": "code",
      "source": [
        "start=np.zeros((4,2))\n",
        "print(start)"
      ],
      "metadata": {
        "colab": {
          "base_uri": "https://localhost:8080/"
        },
        "id": "BhowdCXMx7sw",
        "outputId": "c75a361d-abad-4ea9-a1f1-4bf46a1d031d"
      },
      "execution_count": 38,
      "outputs": [
        {
          "output_type": "stream",
          "name": "stdout",
          "text": [
            "[[0. 0.]\n",
            " [0. 0.]\n",
            " [0. 0.]\n",
            " [0. 0.]]\n"
          ]
        }
      ]
    },
    {
      "cell_type": "code",
      "source": [
        "add_rows=np.array([1,2,3])\n",
        "print(add_rows.shape)"
      ],
      "metadata": {
        "colab": {
          "base_uri": "https://localhost:8080/"
        },
        "id": "-nQvN3k4zLna",
        "outputId": "492641c6-2510-4af7-aab6-ae32eb771887"
      },
      "execution_count": 39,
      "outputs": [
        {
          "output_type": "stream",
          "name": "stdout",
          "text": [
            "(3,)\n"
          ]
        }
      ]
    },
    {
      "cell_type": "code",
      "source": [
        "print(start)"
      ],
      "metadata": {
        "colab": {
          "base_uri": "https://localhost:8080/"
        },
        "id": "U0jBPl3nzcea",
        "outputId": "02056e88-4bb5-4109-91b0-909ec18ca7e9"
      },
      "execution_count": 40,
      "outputs": [
        {
          "output_type": "stream",
          "name": "stdout",
          "text": [
            "[[0. 0.]\n",
            " [0. 0.]\n",
            " [0. 0.]\n",
            " [0. 0.]]\n"
          ]
        }
      ]
    },
    {
      "cell_type": "code",
      "source": [
        "col_rows=np.array([[1,2,3,4]])\n"
      ],
      "metadata": {
        "id": "vEtBa1Mpz3vi"
      },
      "execution_count": 41,
      "outputs": []
    },
    {
      "cell_type": "code",
      "source": [
        "print(start)\n",
        "tmp=col_rows.T\n",
        "y2=start+tmp\n",
        "print(y2)"
      ],
      "metadata": {
        "colab": {
          "base_uri": "https://localhost:8080/"
        },
        "id": "2iOSvr4_09DD",
        "outputId": "07713e92-018a-4031-c6c6-436794ed80a6"
      },
      "execution_count": 43,
      "outputs": [
        {
          "output_type": "stream",
          "name": "stdout",
          "text": [
            "[[0. 0.]\n",
            " [0. 0.]\n",
            " [0. 0.]\n",
            " [0. 0.]]\n",
            "[[1. 1.]\n",
            " [2. 2.]\n",
            " [3. 3.]\n",
            " [4. 4.]]\n"
          ]
        }
      ]
    },
    {
      "cell_type": "code",
      "source": [
        "tmp1=np.array([[1,1],[2,2]])\n",
        "tmp2=np.array([[3,3],[4,4]])\n",
        "print(tmp1)\n",
        "print(tmp2)"
      ],
      "metadata": {
        "colab": {
          "base_uri": "https://localhost:8080/"
        },
        "id": "ts1-YVwU124W",
        "outputId": "61f21140-531e-4f2d-bc8d-2abd3bf34951"
      },
      "execution_count": 50,
      "outputs": [
        {
          "output_type": "stream",
          "name": "stdout",
          "text": [
            "[[1 1]\n",
            " [2 2]]\n",
            "[[3 3]\n",
            " [4 4]]\n"
          ]
        }
      ]
    },
    {
      "cell_type": "code",
      "source": [
        "print(np.dot(tmp1,tmp2))"
      ],
      "metadata": {
        "colab": {
          "base_uri": "https://localhost:8080/"
        },
        "id": "fAYCfGsV1--m",
        "outputId": "423e66bb-1917-4a44-f6c8-a02e2cb76f1f"
      },
      "execution_count": 51,
      "outputs": [
        {
          "output_type": "stream",
          "name": "stdout",
          "text": [
            "[[ 7  7]\n",
            " [14 14]]\n"
          ]
        }
      ]
    },
    {
      "cell_type": "code",
      "source": [
        "y1=np.random.randint(low=2,high=50, size=(2,2))\n",
        "y2=np.random.randint(low=2,high=50, size=(2,2))\n",
        "print(y1)\n",
        "print(y2)"
      ],
      "metadata": {
        "colab": {
          "base_uri": "https://localhost:8080/"
        },
        "id": "3vGHnPh-2ZFn",
        "outputId": "2362f93b-2938-4fee-b8b0-2a65dd91e752"
      },
      "execution_count": 53,
      "outputs": [
        {
          "output_type": "stream",
          "name": "stdout",
          "text": [
            "[[44 11]\n",
            " [32 35]]\n",
            "[[23  9]\n",
            " [ 7 38]]\n"
          ]
        }
      ]
    },
    {
      "cell_type": "code",
      "source": [
        "np.vstack((y1,y2))"
      ],
      "metadata": {
        "colab": {
          "base_uri": "https://localhost:8080/"
        },
        "id": "cuHE7WkV4B4z",
        "outputId": "d75d65c0-7f3a-444f-8995-c0158a0c29dc"
      },
      "execution_count": 54,
      "outputs": [
        {
          "output_type": "execute_result",
          "data": {
            "text/plain": [
              "array([[44, 11],\n",
              "       [32, 35],\n",
              "       [23,  9],\n",
              "       [ 7, 38]])"
            ]
          },
          "metadata": {},
          "execution_count": 54
        }
      ]
    },
    {
      "cell_type": "code",
      "source": [
        "np.hstack((y1,y2))"
      ],
      "metadata": {
        "colab": {
          "base_uri": "https://localhost:8080/"
        },
        "id": "_Rt1o2RK4N8a",
        "outputId": "f2f4194d-8753-4eeb-ccdb-9e894d66ac3f"
      },
      "execution_count": 55,
      "outputs": [
        {
          "output_type": "execute_result",
          "data": {
            "text/plain": [
              "array([[44, 11, 23,  9],\n",
              "       [32, 35,  7, 38]])"
            ]
          },
          "metadata": {},
          "execution_count": 55
        }
      ]
    }
  ]
}