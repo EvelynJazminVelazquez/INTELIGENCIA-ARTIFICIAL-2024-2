{
  "nbformat": 4,
  "nbformat_minor": 0,
  "metadata": {
    "colab": {
      "provenance": [],
      "authorship_tag": "ABX9TyPWIg5om2SSTafMNwMPM8hD",
      "include_colab_link": true
    },
    "kernelspec": {
      "name": "python3",
      "display_name": "Python 3"
    },
    "language_info": {
      "name": "python"
    }
  },
  "cells": [
    {
      "cell_type": "markdown",
      "metadata": {
        "id": "view-in-github",
        "colab_type": "text"
      },
      "source": [
        "<a href=\"https://colab.research.google.com/github/EvelynJazminVelazquez/INTELIGENCIA-ARTIFICIAL-2024-2/blob/main/Martes%2029/10/2024.ipynb\" target=\"_parent\"><img src=\"https://colab.research.google.com/assets/colab-badge.svg\" alt=\"Open In Colab\"/></a>"
      ]
    },
    {
      "cell_type": "markdown",
      "source": [
        "NUMPY LIBRARY"
      ],
      "metadata": {
        "id": "qDuUmq8YgYu-"
      }
    },
    {
      "cell_type": "code",
      "execution_count": 6,
      "metadata": {
        "id": "2_b4vXeNfrNN"
      },
      "outputs": [],
      "source": [
        "import numpy as np"
      ]
    },
    {
      "cell_type": "code",
      "source": [
        " print(np.__version__)"
      ],
      "metadata": {
        "colab": {
          "base_uri": "https://localhost:8080/"
        },
        "id": "Q8-_txRxhNA6",
        "outputId": "944bc71e-2978-4a55-f0f8-0ce0f022498e"
      },
      "execution_count": 7,
      "outputs": [
        {
          "output_type": "stream",
          "name": "stdout",
          "text": [
            "1.26.4\n"
          ]
        }
      ]
    },
    {
      "cell_type": "code",
      "source": [
        "myArray = np.array([1,2,3,4,5])\n",
        "print(myArray)\n"
      ],
      "metadata": {
        "colab": {
          "base_uri": "https://localhost:8080/"
        },
        "id": "3eXZQuUfh-sH",
        "outputId": "8f98864a-af11-4d43-eaec-9264b4cb2c2a"
      },
      "execution_count": 8,
      "outputs": [
        {
          "output_type": "stream",
          "name": "stdout",
          "text": [
            "[1 2 3 4 5]\n"
          ]
        }
      ]
    },
    {
      "cell_type": "code",
      "source": [
        "print(type(myArray))"
      ],
      "metadata": {
        "colab": {
          "base_uri": "https://localhost:8080/"
        },
        "id": "PbZZNtDGiFwA",
        "outputId": "c8aeeddf-6fa5-4f7a-835e-df7632b0fb07"
      },
      "execution_count": 9,
      "outputs": [
        {
          "output_type": "stream",
          "name": "stdout",
          "text": [
            "<class 'numpy.ndarray'>\n"
          ]
        }
      ]
    },
    {
      "cell_type": "code",
      "source": [
        "print(myArray.shape)\n",
        "print(myArray[2])\n",
        "myArray[2]=29\n",
        "print(myArray)"
      ],
      "metadata": {
        "colab": {
          "base_uri": "https://localhost:8080/"
        },
        "id": "3CxowQ9miRMA",
        "outputId": "f7c29459-850a-4df2-c83f-2ea1411094c3"
      },
      "execution_count": 12,
      "outputs": [
        {
          "output_type": "stream",
          "name": "stdout",
          "text": [
            "(5,)\n",
            "3\n",
            "[ 1  2 29  4  5]\n"
          ]
        }
      ]
    },
    {
      "cell_type": "code",
      "source": [
        "myArray1=np.array([[1,2,3],[4,5,6]])\n",
        "print(myArray1)\n",
        "print(myArray1.shape)\n"
      ],
      "metadata": {
        "colab": {
          "base_uri": "https://localhost:8080/"
        },
        "id": "bkKoP3kyix1X",
        "outputId": "4155b149-7a19-452f-f1c0-41418df9cd78"
      },
      "execution_count": 14,
      "outputs": [
        {
          "output_type": "stream",
          "name": "stdout",
          "text": [
            "[[1 2 3]\n",
            " [4 5 6]]\n",
            "(2, 3)\n"
          ]
        }
      ]
    },
    {
      "cell_type": "code",
      "source": [
        "myArray3=np.zeros((5,5))\n",
        "print(myArray3)"
      ],
      "metadata": {
        "colab": {
          "base_uri": "https://localhost:8080/"
        },
        "id": "0SCJRq-6jEF_",
        "outputId": "d7e0614e-269f-42a6-ec44-dc7106b624d4"
      },
      "execution_count": 15,
      "outputs": [
        {
          "output_type": "stream",
          "name": "stdout",
          "text": [
            "[[0. 0. 0. 0. 0.]\n",
            " [0. 0. 0. 0. 0.]\n",
            " [0. 0. 0. 0. 0.]\n",
            " [0. 0. 0. 0. 0.]\n",
            " [0. 0. 0. 0. 0.]]\n"
          ]
        }
      ]
    },
    {
      "cell_type": "code",
      "source": [
        "myArray4=np.full((3,6),10)\n",
        "print(myArray4)\n",
        "myArray5=np.eye(5)\n",
        "print(myArray5)\n",
        "myArray6=np.ones((5,5))\n",
        "print(myArray6)"
      ],
      "metadata": {
        "colab": {
          "base_uri": "https://localhost:8080/"
        },
        "id": "Fw-uTEwPjUtR",
        "outputId": "ee491cd1-23da-4b13-c659-a5fa121b5c1b"
      },
      "execution_count": 18,
      "outputs": [
        {
          "output_type": "stream",
          "name": "stdout",
          "text": [
            "[[10 10 10 10 10 10]\n",
            " [10 10 10 10 10 10]\n",
            " [10 10 10 10 10 10]]\n",
            "[[1. 0. 0. 0. 0.]\n",
            " [0. 1. 0. 0. 0.]\n",
            " [0. 0. 1. 0. 0.]\n",
            " [0. 0. 0. 1. 0.]\n",
            " [0. 0. 0. 0. 1.]]\n",
            "[[1. 1. 1. 1. 1.]\n",
            " [1. 1. 1. 1. 1.]\n",
            " [1. 1. 1. 1. 1.]\n",
            " [1. 1. 1. 1. 1.]\n",
            " [1. 1. 1. 1. 1.]]\n"
          ]
        }
      ]
    },
    {
      "cell_type": "code",
      "source": [
        "myArray7=np.random.random((5,5))\n",
        "print(myArray7)"
      ],
      "metadata": {
        "colab": {
          "base_uri": "https://localhost:8080/"
        },
        "id": "4jEZCFTqjkDH",
        "outputId": "077d9696-c04e-4663-d5d8-e3ecc08e2623"
      },
      "execution_count": 19,
      "outputs": [
        {
          "output_type": "stream",
          "name": "stdout",
          "text": [
            "[[0.98010471 0.23944151 0.1829838  0.67848664 0.31127796]\n",
            " [0.90828898 0.68050605 0.77423303 0.53526451 0.18206945]\n",
            " [0.13842128 0.21412185 0.50791699 0.92295051 0.35429728]\n",
            " [0.60258759 0.82632448 0.04754695 0.01303635 0.96231262]\n",
            " [0.41191408 0.91894414 0.41655699 0.70753033 0.02845899]]\n"
          ]
        }
      ]
    },
    {
      "cell_type": "code",
      "source": [
        "myArray8=np.random.randint(100,size=(5,5))\n",
        "print(myArray8)"
      ],
      "metadata": {
        "colab": {
          "base_uri": "https://localhost:8080/"
        },
        "id": "AgdndlrkkFIU",
        "outputId": "95945acf-0021-49b7-845e-de43889020a2"
      },
      "execution_count": 21,
      "outputs": [
        {
          "output_type": "stream",
          "name": "stdout",
          "text": [
            "[[94 45  7 18 98]\n",
            " [65 47 53 31 96]\n",
            " [80 98 85 29 44]\n",
            " [28 55  5 93 56]\n",
            " [10 36  7 56 45]]\n"
          ]
        }
      ]
    },
    {
      "cell_type": "code",
      "source": [
        "newMatrix=myArray8[3:, 3:]\n",
        "print(newMatrix)"
      ],
      "metadata": {
        "colab": {
          "base_uri": "https://localhost:8080/"
        },
        "id": "b0b4UZMZkm10",
        "outputId": "135ebaab-788d-4a65-e901-86715722b589"
      },
      "execution_count": 24,
      "outputs": [
        {
          "output_type": "stream",
          "name": "stdout",
          "text": [
            "[[93 56]\n",
            " [56 45]]\n"
          ]
        }
      ]
    },
    {
      "cell_type": "code",
      "source": [
        "myArray8[2,2]=10000\n",
        "print(myArray8)"
      ],
      "metadata": {
        "colab": {
          "base_uri": "https://localhost:8080/"
        },
        "id": "OmIrHJixlfsb",
        "outputId": "49abc8b4-1cd2-48d9-d2a4-4534aa1e4fa8"
      },
      "execution_count": 26,
      "outputs": [
        {
          "output_type": "stream",
          "name": "stdout",
          "text": [
            "[[   94    45     7    18    98]\n",
            " [   65    47    53    31    96]\n",
            " [   80    98 10000    29    44]\n",
            " [   28    55     5    93    56]\n",
            " [   10    36     7    56    45]]\n"
          ]
        }
      ]
    },
    {
      "cell_type": "code",
      "source": [
        "print(myArray8[2,:])"
      ],
      "metadata": {
        "colab": {
          "base_uri": "https://localhost:8080/"
        },
        "id": "yI1plhzYl45K",
        "outputId": "bb1c9730-771d-4639-9ae3-bcefa0cedc6a"
      },
      "execution_count": 27,
      "outputs": [
        {
          "output_type": "stream",
          "name": "stdout",
          "text": [
            "[   80    98 10000    29    44]\n"
          ]
        }
      ]
    },
    {
      "cell_type": "code",
      "source": [
        "print(myArray8[:,2].shape)"
      ],
      "metadata": {
        "colab": {
          "base_uri": "https://localhost:8080/"
        },
        "id": "C51EIjA2mD6M",
        "outputId": "f96c87b5-6666-489c-fa1b-632f0b537dea"
      },
      "execution_count": 35,
      "outputs": [
        {
          "output_type": "stream",
          "name": "stdout",
          "text": [
            "(5,)\n"
          ]
        }
      ]
    },
    {
      "cell_type": "code",
      "source": [
        "print(myArray8[1:4,1:4])\n"
      ],
      "metadata": {
        "colab": {
          "base_uri": "https://localhost:8080/"
        },
        "id": "Ry_sb0oumUy6",
        "outputId": "a6fde1dc-5750-4583-c202-89d22ae4a7c5"
      },
      "execution_count": 36,
      "outputs": [
        {
          "output_type": "stream",
          "name": "stdout",
          "text": [
            "[[   47    53    31]\n",
            " [   98 10000    29]\n",
            " [   55     5    93]]\n"
          ]
        }
      ]
    }
  ]
}