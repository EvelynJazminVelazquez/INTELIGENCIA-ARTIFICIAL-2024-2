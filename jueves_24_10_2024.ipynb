{
  "nbformat": 4,
  "nbformat_minor": 0,
  "metadata": {
    "colab": {
      "provenance": [],
      "name": "jueves 24/10/2024.ipynb",
      "authorship_tag": "ABX9TyPeqrQ1ykPn/mvAXjRMbPfZ",
      "include_colab_link": true
    },
    "kernelspec": {
      "name": "python3",
      "display_name": "Python 3"
    },
    "language_info": {
      "name": "python"
    }
  },
  "cells": [
    {
      "cell_type": "markdown",
      "metadata": {
        "id": "view-in-github",
        "colab_type": "text"
      },
      "source": [
        "<a href=\"https://colab.research.google.com/github/EvelynJazminVelazquez/INTELIGENCIA-ARTIFICIAL-2024-2/blob/master/jueves_24_10_2024.ipynb\" target=\"_parent\"><img src=\"https://colab.research.google.com/assets/colab-badge.svg\" alt=\"Open In Colab\"/></a>"
      ]
    },
    {
      "cell_type": "markdown",
      "source": [
        "saber que version es"
      ],
      "metadata": {
        "id": "nh3w0MtDsetu"
      }
    },
    {
      "cell_type": "code",
      "execution_count": null,
      "metadata": {
        "colab": {
          "base_uri": "https://localhost:8080/"
        },
        "id": "zTnm2SvCox4U",
        "outputId": "31f96281-0f1a-4d92-ef78-4f2994f7cc98"
      },
      "outputs": [
        {
          "output_type": "stream",
          "name": "stdout",
          "text": [
            "3.10.12 (main, Sep 11 2024, 15:47:36) [GCC 11.4.0]\n"
          ]
        }
      ],
      "source": [
        "import sys\n",
        "print(sys.version)"
      ]
    },
    {
      "cell_type": "code",
      "source": [
        "numero=5\n",
        "tmp1=\"evelyn\"\n",
        "print(numero)\n",
        "print(f\"Mi nombre es {tmp1}\")\n",
        "print(numero+5)\n",
        "print(numero-3)\n",
        "print(numero*3)\n",
        "print(numero/3)\n",
        "print(numero%3)\n",
        "print(numero**3)\n",
        "numero *=2\n",
        "print(numero)\n",
        "print(type(numero))\n",
        "print(type(tmp1))\n"
      ],
      "metadata": {
        "colab": {
          "base_uri": "https://localhost:8080/"
        },
        "id": "8r-lPW4tsl6Q",
        "outputId": "4391789e-3535-481f-f4bf-be589f37f842"
      },
      "execution_count": null,
      "outputs": [
        {
          "output_type": "stream",
          "name": "stdout",
          "text": [
            "5\n",
            "Mi nombre es evelyn\n",
            "10\n",
            "2\n",
            "15\n",
            "1.6666666666666667\n",
            "2\n",
            "125\n",
            "10\n",
            "<class 'int'>\n",
            "<class 'str'>\n"
          ]
        }
      ]
    },
    {
      "cell_type": "code",
      "source": [
        "t=True\n",
        "f=False\n",
        "print(type(t))\n",
        "print(t and f)\n",
        "print(t or f)\n",
        "print(not t)\n",
        "print(t!=f)\n"
      ],
      "metadata": {
        "colab": {
          "base_uri": "https://localhost:8080/"
        },
        "id": "fl_cS0v7vmqf",
        "outputId": "4f6258da-04b6-49bb-8615-2e5234a6f002"
      },
      "execution_count": null,
      "outputs": [
        {
          "output_type": "stream",
          "name": "stdout",
          "text": [
            "<class 'bool'>\n",
            "False\n",
            "True\n",
            "False\n",
            "True\n"
          ]
        }
      ]
    },
    {
      "cell_type": "code",
      "source": [
        "aux1='hello'\n",
        "aux2='world'\n",
        "print(aux1+aux2)\n",
        "print(aux1*4)\n",
        "print(aux1.capitalize())\n",
        "print(aux1.upper())\n",
        "aux3='EVELYN'\n",
        "print(aux3.lower())"
      ],
      "metadata": {
        "colab": {
          "base_uri": "https://localhost:8080/"
        },
        "id": "H98Ft8rLwewb",
        "outputId": "60e3bdb5-6e44-426e-fda6-037f98c59f9e"
      },
      "execution_count": null,
      "outputs": [
        {
          "output_type": "stream",
          "name": "stdout",
          "text": [
            "helloworld\n",
            "hellohellohellohello\n",
            "Hello\n",
            "HELLO\n",
            "evelyn\n"
          ]
        }
      ]
    },
    {
      "cell_type": "code",
      "source": [
        "\n",
        "aux2 = list()\n",
        "aux2.append(1)\n",
        "aux2.append('jazmin')\n",
        "aux2.append(True)\n",
        "aux2.append(4)\n",
        "print(aux2)\n",
        "print(aux2[1])\n",
        "print(aux2[-1])\n",
        "\n",
        "aux2[1] = 'sol'\n",
        "print(aux2)\n",
        "\n",
        "print('')"
      ],
      "metadata": {
        "colab": {
          "base_uri": "https://localhost:8080/"
        },
        "id": "B2PygCn0z1gS",
        "outputId": "8ee12332-3298-4532-b8aa-9472c12e72be"
      },
      "execution_count": null,
      "outputs": [
        {
          "output_type": "stream",
          "name": "stdout",
          "text": [
            "[1, 'jazmin', True, 4]\n",
            "jazmin\n",
            "4\n",
            "[1, 'sol', True, 4]\n",
            "\n"
          ]
        }
      ]
    },
    {
      "cell_type": "code",
      "source": [
        "tmp1=list(range(100))\n",
        "for x in tmp1:\n",
        "    print(f\"El valor es {x}\")"
      ],
      "metadata": {
        "colab": {
          "base_uri": "https://localhost:8080/"
        },
        "id": "QrQVztBc0oVI",
        "outputId": "71c24a2a-9ef1-4495-a0f1-19a716b3d03e"
      },
      "execution_count": null,
      "outputs": [
        {
          "output_type": "stream",
          "name": "stdout",
          "text": [
            "El valor es 0\n",
            "El valor es 1\n",
            "El valor es 2\n",
            "El valor es 3\n",
            "El valor es 4\n",
            "El valor es 5\n",
            "El valor es 6\n",
            "El valor es 7\n",
            "El valor es 8\n",
            "El valor es 9\n",
            "El valor es 10\n",
            "El valor es 11\n",
            "El valor es 12\n",
            "El valor es 13\n",
            "El valor es 14\n",
            "El valor es 15\n",
            "El valor es 16\n",
            "El valor es 17\n",
            "El valor es 18\n",
            "El valor es 19\n",
            "El valor es 20\n",
            "El valor es 21\n",
            "El valor es 22\n",
            "El valor es 23\n",
            "El valor es 24\n",
            "El valor es 25\n",
            "El valor es 26\n",
            "El valor es 27\n",
            "El valor es 28\n",
            "El valor es 29\n",
            "El valor es 30\n",
            "El valor es 31\n",
            "El valor es 32\n",
            "El valor es 33\n",
            "El valor es 34\n",
            "El valor es 35\n",
            "El valor es 36\n",
            "El valor es 37\n",
            "El valor es 38\n",
            "El valor es 39\n",
            "El valor es 40\n",
            "El valor es 41\n",
            "El valor es 42\n",
            "El valor es 43\n",
            "El valor es 44\n",
            "El valor es 45\n",
            "El valor es 46\n",
            "El valor es 47\n",
            "El valor es 48\n",
            "El valor es 49\n",
            "El valor es 50\n",
            "El valor es 51\n",
            "El valor es 52\n",
            "El valor es 53\n",
            "El valor es 54\n",
            "El valor es 55\n",
            "El valor es 56\n",
            "El valor es 57\n",
            "El valor es 58\n",
            "El valor es 59\n",
            "El valor es 60\n",
            "El valor es 61\n",
            "El valor es 62\n",
            "El valor es 63\n",
            "El valor es 64\n",
            "El valor es 65\n",
            "El valor es 66\n",
            "El valor es 67\n",
            "El valor es 68\n",
            "El valor es 69\n",
            "El valor es 70\n",
            "El valor es 71\n",
            "El valor es 72\n",
            "El valor es 73\n",
            "El valor es 74\n",
            "El valor es 75\n",
            "El valor es 76\n",
            "El valor es 77\n",
            "El valor es 78\n",
            "El valor es 79\n",
            "El valor es 80\n",
            "El valor es 81\n",
            "El valor es 82\n",
            "El valor es 83\n",
            "El valor es 84\n",
            "El valor es 85\n",
            "El valor es 86\n",
            "El valor es 87\n",
            "El valor es 88\n",
            "El valor es 89\n",
            "El valor es 90\n",
            "El valor es 91\n",
            "El valor es 92\n",
            "El valor es 93\n",
            "El valor es 94\n",
            "El valor es 95\n",
            "El valor es 96\n",
            "El valor es 97\n",
            "El valor es 98\n",
            "El valor es 99\n"
          ]
        }
      ]
    },
    {
      "cell_type": "code",
      "source": [
        "listaAnimales=list()\n",
        "listaAnimales.append('mono')\n",
        "listaAnimales.append('pato')\n",
        "listaAnimales.append('gato')\n",
        "listaAnimales.append('cocodrilo')\n",
        "listaAnimales.append('leon')\n",
        "listaAnimales.append('perro')\n",
        "listaAnimales.append('loro')\n",
        "print(listaAnimales)\n",
        "tmp1=listaAnimales[:3]\n",
        "print(\"Animales %s\"%(tmp1))\n",
        "\n",
        "temp2=listaAnimales[2:]\n",
        "print(\"Animales %s \"%(temp2))\n",
        "\n",
        "tmp3=listaAnimales[2:4]\n",
        "print(\"Animales %s\"%(tmp3))\n",
        "\n",
        "listaAnimales[2:4]=['zorro','caracol']\n",
        "print(listaAnimales)"
      ],
      "metadata": {
        "id": "2RTZv8xaxkJ0",
        "outputId": "a5fe61ed-c037-43b5-f390-660dcca64d56",
        "colab": {
          "base_uri": "https://localhost:8080/"
        }
      },
      "execution_count": 11,
      "outputs": [
        {
          "output_type": "stream",
          "name": "stdout",
          "text": [
            "['mono', 'pato', 'gato', 'cocodrilo', 'leon', 'perro', 'loro']\n",
            "Animales ['mono', 'pato', 'gato']\n",
            "Animales ['gato', 'cocodrilo', 'leon', 'perro', 'loro'] \n",
            "Animales ['gato', 'cocodrilo']\n",
            "['mono', 'pato', 'zorro', 'caracol', 'leon', 'perro', 'loro']\n"
          ]
        }
      ]
    },
    {
      "cell_type": "code",
      "source": [
        "for numero,animal in enumerate(listaAnimales):\n",
        "  print('%d: %s'%(numero+1,animal))"
      ],
      "metadata": {
        "id": "XCTFQ5DY0FDZ",
        "outputId": "a473a429-26eb-4e73-b647-49c3dcfa0172",
        "colab": {
          "base_uri": "https://localhost:8080/"
        }
      },
      "execution_count": 10,
      "outputs": [
        {
          "output_type": "stream",
          "name": "stdout",
          "text": [
            "1: mono\n",
            "2: pato\n",
            "3: zorro\n",
            "4: caracol\n",
            "5: leon\n",
            "6: perro\n",
            "7: loro\n"
          ]
        }
      ]
    },
    {
      "cell_type": "code",
      "source": [
        "listaNum=list(range(50))\n",
        "print(listaNum)\n",
        "listaNumCuadrado=list()\n",
        "for numero in listaNum:\n",
        "  listaNumCuadrado.append(numero**2)\n",
        "print(listaNumCuadrado)\n"
      ],
      "metadata": {
        "id": "js-SyX9c0fQB",
        "outputId": "cc2e5e19-b16d-41f1-d17d-77262194b88f",
        "colab": {
          "base_uri": "https://localhost:8080/"
        }
      },
      "execution_count": 17,
      "outputs": [
        {
          "output_type": "stream",
          "name": "stdout",
          "text": [
            "[0, 1, 2, 3, 4, 5, 6, 7, 8, 9, 10, 11, 12, 13, 14, 15, 16, 17, 18, 19, 20, 21, 22, 23, 24, 25, 26, 27, 28, 29, 30, 31, 32, 33, 34, 35, 36, 37, 38, 39, 40, 41, 42, 43, 44, 45, 46, 47, 48, 49]\n",
            "[0, 1, 4, 9, 16, 25, 36, 49, 64, 81, 100, 121, 144, 169, 196, 225, 256, 289, 324, 361, 400, 441, 484, 529, 576, 625, 676, 729, 784, 841, 900, 961, 1024, 1089, 1156, 1225, 1296, 1369, 1444, 1521, 1600, 1681, 1764, 1849, 1936, 2025, 2116, 2209, 2304, 2401]\n"
          ]
        }
      ]
    },
    {
      "cell_type": "markdown",
      "source": [
        "comprencion de listas"
      ],
      "metadata": {
        "id": "3sXrG8Re2T5Y"
      }
    },
    {
      "cell_type": "code",
      "source": [
        "listaCuadrado=[i**2 for i in listaNum]\n",
        "print(listaCuadrado)"
      ],
      "metadata": {
        "id": "lpX3FsDd2CEo",
        "outputId": "7c2a05f4-3aa3-4d68-eef5-95572298340e",
        "colab": {
          "base_uri": "https://localhost:8080/"
        }
      },
      "execution_count": 18,
      "outputs": [
        {
          "output_type": "stream",
          "name": "stdout",
          "text": [
            "[0, 1, 4, 9, 16, 25, 36, 49, 64, 81, 100, 121, 144, 169, 196, 225, 256, 289, 324, 361, 400, 441, 484, 529, 576, 625, 676, 729, 784, 841, 900, 961, 1024, 1089, 1156, 1225, 1296, 1369, 1444, 1521, 1600, 1681, 1764, 1849, 1936, 2025, 2116, 2209, 2304, 2401]\n"
          ]
        }
      ]
    },
    {
      "cell_type": "code",
      "source": [
        "listaImpares=[i for i in listaNum if i%2==1]\n",
        "print(listaImpares)"
      ],
      "metadata": {
        "id": "cMvRZB4A2bk-",
        "outputId": "0a07d226-6c5f-43c2-dc9c-3806407e026f",
        "colab": {
          "base_uri": "https://localhost:8080/"
        }
      },
      "execution_count": 19,
      "outputs": [
        {
          "output_type": "stream",
          "name": "stdout",
          "text": [
            "[1, 3, 5, 7, 9, 11, 13, 15, 17, 19, 21, 23, 25, 27, 29, 31, 33, 35, 37, 39, 41, 43, 45, 47, 49]\n"
          ]
        }
      ]
    },
    {
      "cell_type": "code",
      "source": [
        "listaPares=[i for i in listaNum if i%2==0]\n",
        "print(listaPares)"
      ],
      "metadata": {
        "id": "HDdodNNP2oZ_",
        "outputId": "9c04051c-63c8-4cc4-bafb-b89458e75615",
        "colab": {
          "base_uri": "https://localhost:8080/"
        }
      },
      "execution_count": 22,
      "outputs": [
        {
          "output_type": "stream",
          "name": "stdout",
          "text": [
            "[0, 2, 4, 6, 8, 10, 12, 14, 16, 18, 20, 22, 24, 26, 28, 30, 32, 34, 36, 38, 40, 42, 44, 46, 48]\n"
          ]
        }
      ]
    },
    {
      "cell_type": "code",
      "source": [
        "myDictionary={'pato':'lindo','gato':'lindo'}\n",
        "print(myDictionary)"
      ],
      "metadata": {
        "id": "fVEo9jCw3mIH",
        "outputId": "81a89909-fde0-4aa1-c60c-a28fc11f176e",
        "colab": {
          "base_uri": "https://localhost:8080/"
        }
      },
      "execution_count": 23,
      "outputs": [
        {
          "output_type": "stream",
          "name": "stdout",
          "text": [
            "{'pato': 'lindo', 'gato': 'lindo'}\n"
          ]
        }
      ]
    },
    {
      "cell_type": "code",
      "source": [
        "for key in myDictionary:\n",
        "  print(myDictionary[key])"
      ],
      "metadata": {
        "id": "a7zU3K8R4Xhi",
        "outputId": "f5568455-efb0-4565-f2ee-924a21b4b705",
        "colab": {
          "base_uri": "https://localhost:8080/"
        }
      },
      "execution_count": 24,
      "outputs": [
        {
          "output_type": "stream",
          "name": "stdout",
          "text": [
            "lindo\n",
            "lindo\n"
          ]
        }
      ]
    },
    {
      "cell_type": "code",
      "source": [
        "dictiCuadrado={'1':1,'2':4,'3':9,'4':16}\n",
        "print(dictiCuadrado)\n",
        "\n",
        "diccCuadrados={i:i**2 for i in listaNum}\n",
        "print(diccCuadrados)"
      ],
      "metadata": {
        "id": "g1kxmlAH4lAP",
        "outputId": "2138e725-a3b7-4393-c115-790d0309b942",
        "colab": {
          "base_uri": "https://localhost:8080/"
        }
      },
      "execution_count": 32,
      "outputs": [
        {
          "output_type": "stream",
          "name": "stdout",
          "text": [
            "{'1': 1, '2': 4, '3': 9, '4': 16}\n",
            "{0: 0, 1: 1, 2: 4, 3: 9, 4: 16, 5: 25, 6: 36, 7: 49, 8: 64, 9: 81, 10: 100, 11: 121, 12: 144, 13: 169, 14: 196, 15: 225, 16: 256, 17: 289, 18: 324, 19: 361, 20: 400, 21: 441, 22: 484, 23: 529, 24: 576, 25: 625, 26: 676, 27: 729, 28: 784, 29: 841, 30: 900, 31: 961, 32: 1024, 33: 1089, 34: 1156, 35: 1225, 36: 1296, 37: 1369, 38: 1444, 39: 1521, 40: 1600, 41: 1681, 42: 1764, 43: 1849, 44: 1936, 45: 2025, 46: 2116, 47: 2209, 48: 2304, 49: 2401}\n"
          ]
        }
      ]
    },
    {
      "cell_type": "code",
      "source": [
        "setElementos={'mono','pato','gato','cocodrilo','leon','perro','loro'}\n",
        "print(setElementos)"
      ],
      "metadata": {
        "id": "msJ7ROYy6hw9",
        "outputId": "a7b8b067-5751-4a6d-987c-bfcd4844d395",
        "colab": {
          "base_uri": "https://localhost:8080/"
        }
      },
      "execution_count": 33,
      "outputs": [
        {
          "output_type": "stream",
          "name": "stdout",
          "text": [
            "{'pato', 'mono', 'gato', 'perro', 'cocodrilo', 'leon', 'loro'}\n"
          ]
        }
      ]
    },
    {
      "cell_type": "markdown",
      "source": [
        "si esta en el contenedor"
      ],
      "metadata": {
        "id": "OFs4UjAB7KBY"
      }
    },
    {
      "cell_type": "code",
      "source": [
        "print('mono' in setElementos)\n",
        "setElementos.add('oso')\n",
        "print(setElementos)\n",
        "setElementos.remove('oso')\n",
        "print(setElementos)\n",
        "print(len(setElementos))"
      ],
      "metadata": {
        "id": "ZKweR7Vw68W4",
        "outputId": "65bcfc3e-9fc3-4d3f-aec6-9b1da3a42089",
        "colab": {
          "base_uri": "https://localhost:8080/"
        }
      },
      "execution_count": 40,
      "outputs": [
        {
          "output_type": "stream",
          "name": "stdout",
          "text": [
            "True\n",
            "{'mono', 'loro', 'gato', 'perro', 'pato', 'cocodrilo', 'leon', 'pez', 'oso'}\n",
            "{'mono', 'loro', 'gato', 'perro', 'pato', 'cocodrilo', 'leon', 'pez'}\n",
            "8\n"
          ]
        }
      ]
    },
    {
      "cell_type": "code",
      "source": [
        "def suma(a,b):\n",
        "  return a+b\n",
        "\n",
        "tmp1=1\n",
        "tmp2=2\n",
        "print('La suma de los valores es igual: ',suma(tmp1,tmp2))"
      ],
      "metadata": {
        "id": "4MmlmpIK80aP",
        "outputId": "12b163a1-ee64-4483-8719-bf11aa38dc22",
        "colab": {
          "base_uri": "https://localhost:8080/"
        }
      },
      "execution_count": 44,
      "outputs": [
        {
          "output_type": "stream",
          "name": "stdout",
          "text": [
            "La suma de los valores es igual:  3\n"
          ]
        }
      ]
    },
    {
      "cell_type": "code",
      "source": [
        "listaNu=[0,0,-1]\n",
        "\n",
        "def evaluaSing(tmp):\n",
        "  if tmp<0:\n",
        "    return 'Negativo'\n",
        "  elif tmp>0:\n",
        "    return 'Positivo'\n",
        "  else:\n",
        "    return 'Cero'\n",
        "for cadNum in listaNu:\n",
        "  print(evaluaSing(cadNum))\n"
      ],
      "metadata": {
        "id": "IVN9GPpU9dPs",
        "outputId": "820e6bc1-fb93-4b18-dca7-cfb2ce1fbf31",
        "colab": {
          "base_uri": "https://localhost:8080/"
        }
      },
      "execution_count": 53,
      "outputs": [
        {
          "output_type": "stream",
          "name": "stdout",
          "text": [
            "Cero\n",
            "Cero\n",
            "Negativo\n"
          ]
        }
      ]
    },
    {
      "cell_type": "code",
      "source": [
        "class saludos(object):\n",
        "  def __init__(self,nombre):\n",
        "    self.nombre=nombre\n",
        "\n",
        "  #print('Se ejecuta automaticamente')\n",
        "  def mensaje(self):\n",
        "    print('Hola', self.nombre)\n",
        "\n",
        "name1=saludos('Evelyn')\n",
        "\n",
        "name1.mensaje()"
      ],
      "metadata": {
        "id": "S7NHolgOAfGT",
        "outputId": "a22cd183-f418-46c5-ad33-41e8c8daff1f",
        "colab": {
          "base_uri": "https://localhost:8080/"
        }
      },
      "execution_count": 63,
      "outputs": [
        {
          "output_type": "stream",
          "name": "stdout",
          "text": [
            "Hola Evelyn\n"
          ]
        }
      ]
    },
    {
      "cell_type": "code",
      "source": [
        "class numeros(object):\n",
        "  def __init__(self,numero1, numero2):\n",
        "    self.numero1=numero1\n",
        "    self.numero2=numero2\n",
        "  def suma(self):\n",
        "    return self.numero1+self.numero2\n",
        "\n",
        "problema1=numeros(10,20)\n",
        "print(problema1.suma())"
      ],
      "metadata": {
        "id": "8LixELrLCd-L",
        "outputId": "5adccfad-dd87-4805-cbde-954f253b1397",
        "colab": {
          "base_uri": "https://localhost:8080/"
        }
      },
      "execution_count": 65,
      "outputs": [
        {
          "output_type": "stream",
          "name": "stdout",
          "text": [
            "30\n"
          ]
        }
      ]
    }
  ]
}